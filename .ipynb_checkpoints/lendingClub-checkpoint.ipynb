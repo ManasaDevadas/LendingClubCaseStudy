{
 "cells": [
  {
   "cell_type": "markdown",
   "id": "49e469ff-c84b-4389-914f-6fcf494529ce",
   "metadata": {},
   "source": [
    "<h2 style = \"color : Brown\">  Exploratory Data Analysis - Lending Club Case Study </h2>"
   ]
  },
  {
   "cell_type": "code",
   "execution_count": 54,
   "id": "63261679-ed45-4a0b-8c15-5478fdef7c69",
   "metadata": {},
   "outputs": [],
   "source": [
    "#Mention business Case\n",
    "\n",
    "## Mention the column of analysis.. \n"
   ]
  },
  {
   "cell_type": "code",
   "execution_count": 55,
   "id": "9b0508ff-a385-40da-a1c3-06cee30dc62f",
   "metadata": {},
   "outputs": [],
   "source": [
    "#Import modules\n",
    "\n",
    "import pandas as pd\n",
    "import numpy as np\n",
    "import matplotlib.pyplot as plt\n",
    "import plotly.express as px\n",
    "import seaborn as sns\n"
   ]
  },
  {
   "cell_type": "code",
   "execution_count": 56,
   "id": "2914993c-b7fa-498a-bed9-28b37b889b10",
   "metadata": {},
   "outputs": [
    {
     "name": "stderr",
     "output_type": "stream",
     "text": [
      "C:\\Users\\madevada\\AppData\\Local\\Temp\\ipykernel_30588\\156808305.py:2: DtypeWarning: Columns (47) have mixed types. Specify dtype option on import or set low_memory=False.\n",
      "  df = pd.read_csv('loan.csv')\n"
     ]
    }
   ],
   "source": [
    "#Import the data and use the basic commands to understand it\n",
    "df = pd.read_csv('loan.csv')"
   ]
  },
  {
   "cell_type": "code",
   "execution_count": 57,
   "id": "dbeecce3-187a-4b05-8771-00b6652feebb",
   "metadata": {},
   "outputs": [
    {
     "name": "stdout",
     "output_type": "stream",
     "text": [
      "<class 'pandas.core.frame.DataFrame'>\n",
      "RangeIndex: 39717 entries, 0 to 39716\n",
      "Columns: 111 entries, id to total_il_high_credit_limit\n",
      "dtypes: float64(74), int64(13), object(24)\n",
      "memory usage: 33.6+ MB\n"
     ]
    }
   ],
   "source": [
    "df.info()"
   ]
  },
  {
   "cell_type": "code",
   "execution_count": 58,
   "id": "e3b4cdcf-a247-4a68-80cd-c916996613d3",
   "metadata": {},
   "outputs": [
    {
     "data": {
      "text/html": [
       "<div>\n",
       "<style scoped>\n",
       "    .dataframe tbody tr th:only-of-type {\n",
       "        vertical-align: middle;\n",
       "    }\n",
       "\n",
       "    .dataframe tbody tr th {\n",
       "        vertical-align: top;\n",
       "    }\n",
       "\n",
       "    .dataframe thead th {\n",
       "        text-align: right;\n",
       "    }\n",
       "</style>\n",
       "<table border=\"1\" class=\"dataframe\">\n",
       "  <thead>\n",
       "    <tr style=\"text-align: right;\">\n",
       "      <th></th>\n",
       "      <th>id</th>\n",
       "      <th>member_id</th>\n",
       "      <th>loan_amnt</th>\n",
       "      <th>funded_amnt</th>\n",
       "      <th>funded_amnt_inv</th>\n",
       "      <th>term</th>\n",
       "      <th>int_rate</th>\n",
       "      <th>installment</th>\n",
       "      <th>grade</th>\n",
       "      <th>sub_grade</th>\n",
       "      <th>...</th>\n",
       "      <th>num_tl_90g_dpd_24m</th>\n",
       "      <th>num_tl_op_past_12m</th>\n",
       "      <th>pct_tl_nvr_dlq</th>\n",
       "      <th>percent_bc_gt_75</th>\n",
       "      <th>pub_rec_bankruptcies</th>\n",
       "      <th>tax_liens</th>\n",
       "      <th>tot_hi_cred_lim</th>\n",
       "      <th>total_bal_ex_mort</th>\n",
       "      <th>total_bc_limit</th>\n",
       "      <th>total_il_high_credit_limit</th>\n",
       "    </tr>\n",
       "  </thead>\n",
       "  <tbody>\n",
       "    <tr>\n",
       "      <th>0</th>\n",
       "      <td>1077501</td>\n",
       "      <td>1296599</td>\n",
       "      <td>5000</td>\n",
       "      <td>5000</td>\n",
       "      <td>4975.0</td>\n",
       "      <td>36 months</td>\n",
       "      <td>10.65%</td>\n",
       "      <td>162.87</td>\n",
       "      <td>B</td>\n",
       "      <td>B2</td>\n",
       "      <td>...</td>\n",
       "      <td>NaN</td>\n",
       "      <td>NaN</td>\n",
       "      <td>NaN</td>\n",
       "      <td>NaN</td>\n",
       "      <td>0.0</td>\n",
       "      <td>0.0</td>\n",
       "      <td>NaN</td>\n",
       "      <td>NaN</td>\n",
       "      <td>NaN</td>\n",
       "      <td>NaN</td>\n",
       "    </tr>\n",
       "    <tr>\n",
       "      <th>1</th>\n",
       "      <td>1077430</td>\n",
       "      <td>1314167</td>\n",
       "      <td>2500</td>\n",
       "      <td>2500</td>\n",
       "      <td>2500.0</td>\n",
       "      <td>60 months</td>\n",
       "      <td>15.27%</td>\n",
       "      <td>59.83</td>\n",
       "      <td>C</td>\n",
       "      <td>C4</td>\n",
       "      <td>...</td>\n",
       "      <td>NaN</td>\n",
       "      <td>NaN</td>\n",
       "      <td>NaN</td>\n",
       "      <td>NaN</td>\n",
       "      <td>0.0</td>\n",
       "      <td>0.0</td>\n",
       "      <td>NaN</td>\n",
       "      <td>NaN</td>\n",
       "      <td>NaN</td>\n",
       "      <td>NaN</td>\n",
       "    </tr>\n",
       "    <tr>\n",
       "      <th>2</th>\n",
       "      <td>1077175</td>\n",
       "      <td>1313524</td>\n",
       "      <td>2400</td>\n",
       "      <td>2400</td>\n",
       "      <td>2400.0</td>\n",
       "      <td>36 months</td>\n",
       "      <td>15.96%</td>\n",
       "      <td>84.33</td>\n",
       "      <td>C</td>\n",
       "      <td>C5</td>\n",
       "      <td>...</td>\n",
       "      <td>NaN</td>\n",
       "      <td>NaN</td>\n",
       "      <td>NaN</td>\n",
       "      <td>NaN</td>\n",
       "      <td>0.0</td>\n",
       "      <td>0.0</td>\n",
       "      <td>NaN</td>\n",
       "      <td>NaN</td>\n",
       "      <td>NaN</td>\n",
       "      <td>NaN</td>\n",
       "    </tr>\n",
       "  </tbody>\n",
       "</table>\n",
       "<p>3 rows × 111 columns</p>\n",
       "</div>"
      ],
      "text/plain": [
       "        id  member_id  loan_amnt  funded_amnt  funded_amnt_inv        term  \\\n",
       "0  1077501    1296599       5000         5000           4975.0   36 months   \n",
       "1  1077430    1314167       2500         2500           2500.0   60 months   \n",
       "2  1077175    1313524       2400         2400           2400.0   36 months   \n",
       "\n",
       "  int_rate  installment grade sub_grade  ... num_tl_90g_dpd_24m  \\\n",
       "0   10.65%       162.87     B        B2  ...                NaN   \n",
       "1   15.27%        59.83     C        C4  ...                NaN   \n",
       "2   15.96%        84.33     C        C5  ...                NaN   \n",
       "\n",
       "  num_tl_op_past_12m pct_tl_nvr_dlq  percent_bc_gt_75 pub_rec_bankruptcies  \\\n",
       "0                NaN            NaN               NaN                  0.0   \n",
       "1                NaN            NaN               NaN                  0.0   \n",
       "2                NaN            NaN               NaN                  0.0   \n",
       "\n",
       "  tax_liens tot_hi_cred_lim total_bal_ex_mort total_bc_limit  \\\n",
       "0       0.0             NaN               NaN            NaN   \n",
       "1       0.0             NaN               NaN            NaN   \n",
       "2       0.0             NaN               NaN            NaN   \n",
       "\n",
       "  total_il_high_credit_limit  \n",
       "0                        NaN  \n",
       "1                        NaN  \n",
       "2                        NaN  \n",
       "\n",
       "[3 rows x 111 columns]"
      ]
     },
     "execution_count": 58,
     "metadata": {},
     "output_type": "execute_result"
    }
   ],
   "source": [
    "df.head(3)"
   ]
  },
  {
   "cell_type": "code",
   "execution_count": 59,
   "id": "70e97fa6-0155-4092-a56a-94eeeba96d73",
   "metadata": {},
   "outputs": [
    {
     "data": {
      "text/plain": [
       "(39717, 111)"
      ]
     },
     "execution_count": 59,
     "metadata": {},
     "output_type": "execute_result"
    }
   ],
   "source": [
    "df.shape"
   ]
  },
  {
   "cell_type": "markdown",
   "id": "726077f7-d1fa-418f-a449-9f96206d2a3b",
   "metadata": {},
   "source": [
    "<h3 style = \"color : Blue\"> Data Cleaning </h3>   "
   ]
  },
  {
   "cell_type": "code",
   "execution_count": 60,
   "id": "4ef97fa4-d305-4918-80da-f82f24f7a47e",
   "metadata": {},
   "outputs": [],
   "source": [
    "##### Too many columns(111)  -- need to find which ones have proper data and which ones doesnt and will drop them"
   ]
  },
  {
   "cell_type": "code",
   "execution_count": 61,
   "id": "af935c32-eab8-4191-a8f1-826ef4cf7f47",
   "metadata": {},
   "outputs": [
    {
     "data": {
      "text/plain": [
       "id                                0\n",
       "member_id                         0\n",
       "loan_amnt                         0\n",
       "funded_amnt                       0\n",
       "funded_amnt_inv                   0\n",
       "                              ...  \n",
       "tax_liens                        39\n",
       "tot_hi_cred_lim               39717\n",
       "total_bal_ex_mort             39717\n",
       "total_bc_limit                39717\n",
       "total_il_high_credit_limit    39717\n",
       "Length: 111, dtype: int64"
      ]
     },
     "execution_count": 61,
     "metadata": {},
     "output_type": "execute_result"
    }
   ],
   "source": [
    "df.isnull().sum() "
   ]
  },
  {
   "cell_type": "code",
   "execution_count": 62,
   "id": "11928a3d-23c9-4464-9420-58d3e07758be",
   "metadata": {},
   "outputs": [],
   "source": [
    "meannull = df.isnull().mean()"
   ]
  },
  {
   "cell_type": "code",
   "execution_count": 63,
   "id": "61fd2fa6-3afd-4cc3-b9e3-b55ea5ff77c7",
   "metadata": {},
   "outputs": [],
   "source": [
    "allNull = meannull[meannull == 1.0]"
   ]
  },
  {
   "cell_type": "code",
   "execution_count": 64,
   "id": "de7138c0-4248-4f61-8120-b8abef885b3f",
   "metadata": {},
   "outputs": [
    {
     "data": {
      "text/plain": [
       "54"
      ]
     },
     "execution_count": 64,
     "metadata": {},
     "output_type": "execute_result"
    }
   ],
   "source": [
    "allNull.size"
   ]
  },
  {
   "cell_type": "code",
   "execution_count": 65,
   "id": "f15d0407-e850-4d49-9612-afc89b6fadb9",
   "metadata": {},
   "outputs": [
    {
     "data": {
      "text/plain": [
       "['mths_since_last_major_derog',\n",
       " 'annual_inc_joint',\n",
       " 'dti_joint',\n",
       " 'verification_status_joint',\n",
       " 'tot_coll_amt',\n",
       " 'tot_cur_bal',\n",
       " 'open_acc_6m',\n",
       " 'open_il_6m',\n",
       " 'open_il_12m',\n",
       " 'open_il_24m',\n",
       " 'mths_since_rcnt_il',\n",
       " 'total_bal_il',\n",
       " 'il_util',\n",
       " 'open_rv_12m',\n",
       " 'open_rv_24m',\n",
       " 'max_bal_bc',\n",
       " 'all_util',\n",
       " 'total_rev_hi_lim',\n",
       " 'inq_fi',\n",
       " 'total_cu_tl',\n",
       " 'inq_last_12m',\n",
       " 'acc_open_past_24mths',\n",
       " 'avg_cur_bal',\n",
       " 'bc_open_to_buy',\n",
       " 'bc_util',\n",
       " 'mo_sin_old_il_acct',\n",
       " 'mo_sin_old_rev_tl_op',\n",
       " 'mo_sin_rcnt_rev_tl_op',\n",
       " 'mo_sin_rcnt_tl',\n",
       " 'mort_acc',\n",
       " 'mths_since_recent_bc',\n",
       " 'mths_since_recent_bc_dlq',\n",
       " 'mths_since_recent_inq',\n",
       " 'mths_since_recent_revol_delinq',\n",
       " 'num_accts_ever_120_pd',\n",
       " 'num_actv_bc_tl',\n",
       " 'num_actv_rev_tl',\n",
       " 'num_bc_sats',\n",
       " 'num_bc_tl',\n",
       " 'num_il_tl',\n",
       " 'num_op_rev_tl',\n",
       " 'num_rev_accts',\n",
       " 'num_rev_tl_bal_gt_0',\n",
       " 'num_sats',\n",
       " 'num_tl_120dpd_2m',\n",
       " 'num_tl_30dpd',\n",
       " 'num_tl_90g_dpd_24m',\n",
       " 'num_tl_op_past_12m',\n",
       " 'pct_tl_nvr_dlq',\n",
       " 'percent_bc_gt_75',\n",
       " 'tot_hi_cred_lim',\n",
       " 'total_bal_ex_mort',\n",
       " 'total_bc_limit',\n",
       " 'total_il_high_credit_limit']"
      ]
     },
     "execution_count": 65,
     "metadata": {},
     "output_type": "execute_result"
    }
   ],
   "source": [
    "allNull.index.tolist()"
   ]
  },
  {
   "cell_type": "markdown",
   "id": "4204aba8-9dba-499d-baa0-b98439b601bd",
   "metadata": {},
   "source": [
    "#### Drop columns with all null values"
   ]
  },
  {
   "cell_type": "code",
   "execution_count": 66,
   "id": "d062f1f2-abc3-4a66-b028-97aea423251e",
   "metadata": {},
   "outputs": [],
   "source": [
    "df = df.dropna(axis=1, how='all')"
   ]
  },
  {
   "cell_type": "code",
   "execution_count": 67,
   "id": "0fc16688-f6e1-4d33-91e0-a38a0c7d3a1c",
   "metadata": {},
   "outputs": [
    {
     "data": {
      "text/plain": [
       "(39717, 57)"
      ]
     },
     "execution_count": 67,
     "metadata": {},
     "output_type": "execute_result"
    }
   ],
   "source": [
    "df.shape"
   ]
  },
  {
   "cell_type": "code",
   "execution_count": 68,
   "id": "100c7147-6605-4b78-9a70-723083446706",
   "metadata": {},
   "outputs": [
    {
     "data": {
      "text/plain": [
       "id                            0.000000\n",
       "member_id                     0.000000\n",
       "loan_amnt                     0.000000\n",
       "funded_amnt                   0.000000\n",
       "funded_amnt_inv               0.000000\n",
       "term                          0.000000\n",
       "int_rate                      0.000000\n",
       "installment                   0.000000\n",
       "grade                         0.000000\n",
       "sub_grade                     0.000000\n",
       "emp_title                     0.061913\n",
       "emp_length                    0.027066\n",
       "home_ownership                0.000000\n",
       "annual_inc                    0.000000\n",
       "verification_status           0.000000\n",
       "issue_d                       0.000000\n",
       "loan_status                   0.000000\n",
       "pymnt_plan                    0.000000\n",
       "url                           0.000000\n",
       "desc                          0.325855\n",
       "purpose                       0.000000\n",
       "title                         0.000277\n",
       "zip_code                      0.000000\n",
       "addr_state                    0.000000\n",
       "dti                           0.000000\n",
       "delinq_2yrs                   0.000000\n",
       "earliest_cr_line              0.000000\n",
       "inq_last_6mths                0.000000\n",
       "mths_since_last_delinq        0.646625\n",
       "mths_since_last_record        0.929854\n",
       "open_acc                      0.000000\n",
       "pub_rec                       0.000000\n",
       "revol_bal                     0.000000\n",
       "revol_util                    0.001259\n",
       "total_acc                     0.000000\n",
       "initial_list_status           0.000000\n",
       "out_prncp                     0.000000\n",
       "out_prncp_inv                 0.000000\n",
       "total_pymnt                   0.000000\n",
       "total_pymnt_inv               0.000000\n",
       "total_rec_prncp               0.000000\n",
       "total_rec_int                 0.000000\n",
       "total_rec_late_fee            0.000000\n",
       "recoveries                    0.000000\n",
       "collection_recovery_fee       0.000000\n",
       "last_pymnt_d                  0.001788\n",
       "last_pymnt_amnt               0.000000\n",
       "next_pymnt_d                  0.971297\n",
       "last_credit_pull_d            0.000050\n",
       "collections_12_mths_ex_med    0.001410\n",
       "policy_code                   0.000000\n",
       "application_type              0.000000\n",
       "acc_now_delinq                0.000000\n",
       "chargeoff_within_12_mths      0.001410\n",
       "delinq_amnt                   0.000000\n",
       "pub_rec_bankruptcies          0.017549\n",
       "tax_liens                     0.000982\n",
       "dtype: float64"
      ]
     },
     "execution_count": 68,
     "metadata": {},
     "output_type": "execute_result"
    }
   ],
   "source": [
    "df.isnull().mean()"
   ]
  },
  {
   "cell_type": "markdown",
   "id": "f1b5b30f-27b3-4ebe-8dd2-f496f352893a",
   "metadata": {},
   "source": [
    "#### Lets drop anything > 40% null values.\n",
    "#### But dont drop mths_since_last_delinq seems to be an important column. "
   ]
  },
  {
   "cell_type": "code",
   "execution_count": 69,
   "id": "36e3a913-9b6e-40ed-bba0-58cdfd68a199",
   "metadata": {},
   "outputs": [
    {
     "data": {
      "text/plain": [
       "15886"
      ]
     },
     "execution_count": 69,
     "metadata": {},
     "output_type": "execute_result"
    }
   ],
   "source": [
    "int(39717*.4)"
   ]
  },
  {
   "cell_type": "code",
   "execution_count": 70,
   "id": "be23cbdf-c805-4757-bd2e-6435bba45ac4",
   "metadata": {},
   "outputs": [],
   "source": [
    "df = df.dropna(axis=1, thresh= int(39717*.4))"
   ]
  },
  {
   "cell_type": "code",
   "execution_count": 71,
   "id": "2dacd8f4-a6bb-4292-9308-f2d86beb4b0e",
   "metadata": {},
   "outputs": [
    {
     "data": {
      "text/plain": [
       "(39717, 54)"
      ]
     },
     "execution_count": 71,
     "metadata": {},
     "output_type": "execute_result"
    }
   ],
   "source": [
    "df.shape"
   ]
  },
  {
   "cell_type": "code",
   "execution_count": 72,
   "id": "5b3dbb06-aa8a-4f25-9054-5caf2743ab82",
   "metadata": {},
   "outputs": [],
   "source": [
    "df.to_csv('loannonull.csv')"
   ]
  },
  {
   "cell_type": "code",
   "execution_count": 17,
   "id": "9970275d-42b4-43ce-ab5d-9b8a1e0ec151",
   "metadata": {},
   "outputs": [
    {
     "name": "stdout",
     "output_type": "stream",
     "text": [
      "<class 'pandas.core.frame.DataFrame'>\n",
      "RangeIndex: 39717 entries, 0 to 39716\n",
      "Data columns (total 55 columns):\n",
      " #   Column                      Non-Null Count  Dtype  \n",
      "---  ------                      --------------  -----  \n",
      " 0   id                          39717 non-null  int64  \n",
      " 1   member_id                   39717 non-null  int64  \n",
      " 2   loan_amnt                   39717 non-null  int64  \n",
      " 3   funded_amnt                 39717 non-null  int64  \n",
      " 4   funded_amnt_inv             39717 non-null  float64\n",
      " 5   term                        39717 non-null  object \n",
      " 6   int_rate                    39717 non-null  object \n",
      " 7   installment                 39717 non-null  float64\n",
      " 8   grade                       39717 non-null  object \n",
      " 9   sub_grade                   39717 non-null  object \n",
      " 10  emp_title                   37258 non-null  object \n",
      " 11  emp_length                  38642 non-null  object \n",
      " 12  home_ownership              39717 non-null  object \n",
      " 13  annual_inc                  39717 non-null  float64\n",
      " 14  verification_status         39717 non-null  object \n",
      " 15  issue_d                     39717 non-null  object \n",
      " 16  loan_status                 39717 non-null  object \n",
      " 17  pymnt_plan                  39717 non-null  object \n",
      " 18  url                         39717 non-null  object \n",
      " 19  desc                        26775 non-null  object \n",
      " 20  purpose                     39717 non-null  object \n",
      " 21  title                       39706 non-null  object \n",
      " 22  zip_code                    39717 non-null  object \n",
      " 23  addr_state                  39717 non-null  object \n",
      " 24  dti                         39717 non-null  float64\n",
      " 25  delinq_2yrs                 39717 non-null  int64  \n",
      " 26  earliest_cr_line            39717 non-null  object \n",
      " 27  inq_last_6mths              39717 non-null  int64  \n",
      " 28  mths_since_last_delinq      14035 non-null  float64\n",
      " 29  open_acc                    39717 non-null  int64  \n",
      " 30  pub_rec                     39717 non-null  int64  \n",
      " 31  revol_bal                   39717 non-null  int64  \n",
      " 32  revol_util                  39667 non-null  object \n",
      " 33  total_acc                   39717 non-null  int64  \n",
      " 34  initial_list_status         39717 non-null  object \n",
      " 35  out_prncp                   39717 non-null  float64\n",
      " 36  out_prncp_inv               39717 non-null  float64\n",
      " 37  total_pymnt                 39717 non-null  float64\n",
      " 38  total_pymnt_inv             39717 non-null  float64\n",
      " 39  total_rec_prncp             39717 non-null  float64\n",
      " 40  total_rec_int               39717 non-null  float64\n",
      " 41  total_rec_late_fee          39717 non-null  float64\n",
      " 42  recoveries                  39717 non-null  float64\n",
      " 43  collection_recovery_fee     39717 non-null  float64\n",
      " 44  last_pymnt_d                39646 non-null  object \n",
      " 45  last_pymnt_amnt             39717 non-null  float64\n",
      " 46  last_credit_pull_d          39715 non-null  object \n",
      " 47  collections_12_mths_ex_med  39661 non-null  float64\n",
      " 48  policy_code                 39717 non-null  int64  \n",
      " 49  application_type            39717 non-null  object \n",
      " 50  acc_now_delinq              39717 non-null  int64  \n",
      " 51  chargeoff_within_12_mths    39661 non-null  float64\n",
      " 52  delinq_amnt                 39717 non-null  int64  \n",
      " 53  pub_rec_bankruptcies        39020 non-null  float64\n",
      " 54  tax_liens                   39678 non-null  float64\n",
      "dtypes: float64(19), int64(13), object(23)\n",
      "memory usage: 16.7+ MB\n"
     ]
    }
   ],
   "source": [
    "df.info()"
   ]
  },
  {
   "cell_type": "markdown",
   "id": "0340bca5-04da-4e29-846f-f20d00049ee0",
   "metadata": {},
   "source": [
    "#### Columns with all zeroes or blanks. "
   ]
  },
  {
   "cell_type": "code",
   "execution_count": 18,
   "id": "7d5a8f34-705d-4d3f-a8cc-69475928001f",
   "metadata": {},
   "outputs": [
    {
     "data": {
      "text/plain": [
       "id                                0\n",
       "member_id                         0\n",
       "loan_amnt                         0\n",
       "funded_amnt                       0\n",
       "funded_amnt_inv                 129\n",
       "term                              0\n",
       "int_rate                          0\n",
       "installment                       0\n",
       "grade                             0\n",
       "sub_grade                         0\n",
       "emp_title                      2459\n",
       "emp_length                     1075\n",
       "home_ownership                    0\n",
       "annual_inc                        0\n",
       "verification_status               0\n",
       "issue_d                           0\n",
       "loan_status                       0\n",
       "pymnt_plan                        0\n",
       "url                               0\n",
       "desc                          12942\n",
       "purpose                           0\n",
       "title                            11\n",
       "zip_code                          0\n",
       "addr_state                        0\n",
       "dti                             183\n",
       "delinq_2yrs                   35405\n",
       "earliest_cr_line                  0\n",
       "inq_last_6mths                19300\n",
       "mths_since_last_delinq        26125\n",
       "open_acc                          0\n",
       "pub_rec                       37601\n",
       "revol_bal                       994\n",
       "revol_util                       50\n",
       "total_acc                         0\n",
       "initial_list_status               0\n",
       "out_prncp                     38577\n",
       "out_prncp_inv                 38577\n",
       "total_pymnt                      16\n",
       "total_pymnt_inv                 165\n",
       "total_rec_prncp                  74\n",
       "total_rec_int                    71\n",
       "total_rec_late_fee            37671\n",
       "recoveries                    35499\n",
       "collection_recovery_fee       35935\n",
       "last_pymnt_d                     71\n",
       "last_pymnt_amnt                  74\n",
       "last_credit_pull_d                2\n",
       "collections_12_mths_ex_med    39717\n",
       "policy_code                       0\n",
       "application_type                  0\n",
       "acc_now_delinq                39717\n",
       "chargeoff_within_12_mths      39717\n",
       "delinq_amnt                   39717\n",
       "pub_rec_bankruptcies          38036\n",
       "tax_liens                     39717\n",
       "dtype: int64"
      ]
     },
     "execution_count": 18,
     "metadata": {},
     "output_type": "execute_result"
    }
   ],
   "source": [
    "((df.isnull() | (df == \"\") | (df == 0.0)).sum())"
   ]
  },
  {
   "cell_type": "code",
   "execution_count": 19,
   "id": "fdc8a400-5a81-418a-add7-d26af5bde87f",
   "metadata": {},
   "outputs": [],
   "source": [
    "df1series = ((df.isnull() | (df == \"\") | (df == 0.0)).sum())"
   ]
  },
  {
   "cell_type": "code",
   "execution_count": 20,
   "id": "3ed11658-d225-4fef-be39-33c333dfa91d",
   "metadata": {},
   "outputs": [
    {
     "data": {
      "text/plain": [
       "collections_12_mths_ex_med    39717\n",
       "acc_now_delinq                39717\n",
       "chargeoff_within_12_mths      39717\n",
       "delinq_amnt                   39717\n",
       "tax_liens                     39717\n",
       "dtype: int64"
      ]
     },
     "execution_count": 20,
     "metadata": {},
     "output_type": "execute_result"
    }
   ],
   "source": [
    "df1series[df1series == (df.shape[0])]"
   ]
  },
  {
   "cell_type": "markdown",
   "id": "bab5cf44-624f-4666-b4aa-e56e48941336",
   "metadata": {},
   "source": [
    "#### <font color=\"blue\"> Upon further analysis </font>\n",
    "* pymnt_pln  - n for all\n",
    "* url - constructed with loan id, so can be considered as a duplicate of loan id\n",
    "* initial_list_status - f for all\n",
    "* policy_code  - (1) same for all\n",
    "* application Type - \"Individual\" for all\n",
    "* Columns to be dropped\n",
    "  - pymnt_pln\r\n",
    "  -initial_list_status1\r\n",
    "  policy_code\n",
    "  - application Type\n",
    "  - acc_now_delinq\n",
    "  - delinq_amnt\n",
    "  - tax_liensnt 3\n",
    "d \n",
    "\n"
   ]
  },
  {
   "cell_type": "code",
   "execution_count": 21,
   "id": "a011b5bb-7462-4073-a9c9-6a724b48553a",
   "metadata": {},
   "outputs": [],
   "source": [
    "columns_to_drop = ['pymnt_plan', 'url', 'initial_list_status', 'policy_code', 'application_type', 'collections_12_mths_ex_med', 'acc_now_delinq', 'chargeoff_within_12_mths', 'delinq_amnt', 'tax_liens']"
   ]
  },
  {
   "cell_type": "code",
   "execution_count": 22,
   "id": "6b960cab-c7c7-4432-b514-3c671d43e82c",
   "metadata": {},
   "outputs": [],
   "source": [
    "df.drop(columns_to_drop,  axis=1, inplace=True)"
   ]
  },
  {
   "cell_type": "markdown",
   "id": "906c7070-82b4-4e2a-baa4-a9466bbf10dd",
   "metadata": {},
   "source": [
    "#### Verify missing values in rows"
   ]
  },
  {
   "cell_type": "code",
   "execution_count": 23,
   "id": "ab23e30f-b104-42d8-9350-14c683594f68",
   "metadata": {},
   "outputs": [],
   "source": [
    "nullinrows = (df.isnull().sum(axis=1))"
   ]
  },
  {
   "cell_type": "code",
   "execution_count": 24,
   "id": "ea436228-bd8e-4baf-96c0-70333a07c2af",
   "metadata": {},
   "outputs": [
    {
     "data": {
      "text/plain": [
       "5"
      ]
     },
     "execution_count": 24,
     "metadata": {},
     "output_type": "execute_result"
    }
   ],
   "source": [
    "nullinrows.max()"
   ]
  },
  {
   "cell_type": "markdown",
   "id": "c03d1680-b85d-42a2-b568-ae0fa4658766",
   "metadata": {},
   "source": [
    "#### No rows have a lot of nulls"
   ]
  },
  {
   "cell_type": "code",
   "execution_count": 25,
   "id": "b6d0839a-3800-4b77-bcaf-e373e8311acf",
   "metadata": {},
   "outputs": [
    {
     "data": {
      "text/plain": [
       "(39717, 45)"
      ]
     },
     "execution_count": 25,
     "metadata": {},
     "output_type": "execute_result"
    }
   ],
   "source": [
    "df.shape"
   ]
  },
  {
   "cell_type": "code",
   "execution_count": 26,
   "id": "ad80ea50-3673-44fe-aeb9-e1507becdd33",
   "metadata": {},
   "outputs": [
    {
     "data": {
      "text/plain": [
       "Series([], dtype: bool)"
      ]
     },
     "execution_count": 26,
     "metadata": {},
     "output_type": "execute_result"
    }
   ],
   "source": [
    "duplicate_rows = df.duplicated()\n",
    "duplicate_rows[duplicate_rows==True]"
   ]
  },
  {
   "cell_type": "markdown",
   "id": "2f8bb869-57bb-484b-a4da-3233607820f2",
   "metadata": {},
   "source": [
    "#### No Duplicates"
   ]
  },
  {
   "cell_type": "code",
   "execution_count": 27,
   "id": "dbcc23e8-25ab-4e69-9a1f-f87f22be790d",
   "metadata": {},
   "outputs": [],
   "source": [
    "### Find out columns with nulls, if less no of rows, will delete those rows. \n",
    "df1nullmean = df.isnull().mean()"
   ]
  },
  {
   "cell_type": "code",
   "execution_count": 28,
   "id": "914b59b1-b27e-4923-a2ad-1fea063d4c68",
   "metadata": {},
   "outputs": [
    {
     "data": {
      "text/plain": [
       "emp_title                 0.061913\n",
       "emp_length                0.027066\n",
       "desc                      0.325855\n",
       "title                     0.000277\n",
       "mths_since_last_delinq    0.646625\n",
       "revol_util                0.001259\n",
       "last_pymnt_d              0.001788\n",
       "last_credit_pull_d        0.000050\n",
       "pub_rec_bankruptcies      0.017549\n",
       "dtype: float64"
      ]
     },
     "execution_count": 28,
     "metadata": {},
     "output_type": "execute_result"
    }
   ],
   "source": [
    "df1nullmean[(df1nullmean > 0.0)]"
   ]
  },
  {
   "cell_type": "code",
   "execution_count": 29,
   "id": "beaf264e-6e19-4434-b158-c13da70c9b69",
   "metadata": {},
   "outputs": [
    {
     "data": {
      "text/plain": [
       "emp_title               0.061913\n",
       "emp_length              0.027066\n",
       "title                   0.000277\n",
       "revol_util              0.001259\n",
       "last_pymnt_d            0.001788\n",
       "last_credit_pull_d      0.000050\n",
       "pub_rec_bankruptcies    0.017549\n",
       "dtype: float64"
      ]
     },
     "execution_count": 29,
     "metadata": {},
     "output_type": "execute_result"
    }
   ],
   "source": [
    "df1nullmean[(df1nullmean > 0.0) & (df1nullmean < 0.1)]"
   ]
  },
  {
   "cell_type": "code",
   "execution_count": 30,
   "id": "766a5eaa-bf0b-4513-b70c-0357c48a773c",
   "metadata": {},
   "outputs": [
    {
     "data": {
      "text/plain": [
       "desc                      0.325855\n",
       "mths_since_last_delinq    0.646625\n",
       "dtype: float64"
      ]
     },
     "execution_count": 30,
     "metadata": {},
     "output_type": "execute_result"
    }
   ],
   "source": [
    "df1nullmean[(df1nullmean > 0.0) & (df1nullmean > 0.1)]"
   ]
  },
  {
   "cell_type": "code",
   "execution_count": null,
   "id": "6664e48c-5e22-4c22-aafc-1826022b0cb1",
   "metadata": {},
   "outputs": [],
   "source": []
  },
  {
   "cell_type": "markdown",
   "id": "bf9caacd-a62e-401c-8d18-e8d39198207a",
   "metadata": {},
   "source": [
    "#### **Apart from desc and mths_since_last_delinq lets delete the corresponding rows intead of imputing since that makes a better sense.** </font>\n",
    "########\n",
    "\n"
   ]
  },
  {
   "cell_type": "code",
   "execution_count": 31,
   "id": "6d7c674c-8d61-4f89-a97a-53e8bc03487c",
   "metadata": {},
   "outputs": [],
   "source": [
    "columns_to_check = ['emp_title','emp_length', 'title', 'revol_util', 'last_pymnt_d', 'last_credit_pull_d', 'pub_rec_bankruptcies']"
   ]
  },
  {
   "cell_type": "code",
   "execution_count": 32,
   "id": "1d8ec9e6-ad3b-445c-93ef-0133cd475a69",
   "metadata": {},
   "outputs": [],
   "source": [
    "df.dropna(subset=columns_to_check, how='any', inplace=True)"
   ]
  },
  {
   "cell_type": "code",
   "execution_count": 33,
   "id": "3a5343cf-0c6f-406b-95d9-963b7bee397f",
   "metadata": {},
   "outputs": [
    {
     "data": {
      "text/plain": [
       "desc                      0.330113\n",
       "mths_since_last_delinq    0.656932\n",
       "dtype: float64"
      ]
     },
     "execution_count": 33,
     "metadata": {},
     "output_type": "execute_result"
    }
   ],
   "source": [
    "df1nullmean = df.isnull().mean()\n",
    "df1nullmean[(df1nullmean > 0.0)]"
   ]
  },
  {
   "cell_type": "code",
   "execution_count": 34,
   "id": "70e47e2b-9c93-40d4-a8a6-352c2845f33c",
   "metadata": {},
   "outputs": [
    {
     "data": {
      "text/plain": [
       "(36433, 45)"
      ]
     },
     "execution_count": 34,
     "metadata": {},
     "output_type": "execute_result"
    }
   ],
   "source": [
    "df.shape"
   ]
  },
  {
   "cell_type": "markdown",
   "id": "7407aa42-8b52-424e-8e73-dd4e09ef8cd1",
   "metadata": {},
   "source": [
    "#### Find blanks"
   ]
  },
  {
   "cell_type": "code",
   "execution_count": 35,
   "id": "e5611e8b-b9b8-4fc2-a837-2a887b1a1d11",
   "metadata": {},
   "outputs": [],
   "source": [
    "blanksum = (df == \"\").sum()"
   ]
  },
  {
   "cell_type": "code",
   "execution_count": 36,
   "id": "ce618d62-9765-4807-8449-800699b3f914",
   "metadata": {},
   "outputs": [
    {
     "data": {
      "text/plain": [
       "Series([], dtype: int64)"
      ]
     },
     "execution_count": 36,
     "metadata": {},
     "output_type": "execute_result"
    }
   ],
   "source": [
    "blanksum[blanksum > 0]"
   ]
  },
  {
   "cell_type": "markdown",
   "id": "fdbda0e7-d1c0-4d1c-a024-da07edf852f4",
   "metadata": {},
   "source": [
    "####  <font color=\"Green\"> **Impute Values** </font>\n",
    "* Nulls\n",
    "    * desc - fill with 'no description provided'\n",
    "\n",
    "    * mths_since_last_delinq (zero)\n",
    "      "
   ]
  },
  {
   "cell_type": "code",
   "execution_count": 37,
   "id": "aafd8b72-d072-4bb5-9f9d-a8ecb5d2bdb5",
   "metadata": {},
   "outputs": [
    {
     "data": {
      "text/plain": [
       "Series([], Name: count, dtype: int64)"
      ]
     },
     "execution_count": 37,
     "metadata": {},
     "output_type": "execute_result"
    }
   ],
   "source": [
    "valcnt = df.mths_since_last_delinq.value_counts()\n",
    "valcnt[valcnt == 0.0]"
   ]
  },
  {
   "cell_type": "code",
   "execution_count": 38,
   "id": "748fabce-e710-41fd-9be0-1b1860737e8d",
   "metadata": {},
   "outputs": [],
   "source": [
    "#df1.fillna('No description provided', inplace=True)\n",
    "#df1['mths_since_last_delinq'].fillna(0, inplace=True)\n",
    "df['desc'] = df['desc'].fillna('No description provided')\n",
    "df['mths_since_last_delinq'] = df['mths_since_last_delinq'].fillna(0)"
   ]
  },
  {
   "cell_type": "code",
   "execution_count": 39,
   "id": "decfbbb6-1d95-4eed-946f-a2d54d22785c",
   "metadata": {},
   "outputs": [
    {
     "data": {
      "text/plain": [
       "id                         0\n",
       "member_id                  0\n",
       "loan_amnt                  0\n",
       "funded_amnt                0\n",
       "funded_amnt_inv            0\n",
       "term                       0\n",
       "int_rate                   0\n",
       "installment                0\n",
       "grade                      0\n",
       "sub_grade                  0\n",
       "emp_title                  0\n",
       "emp_length                 0\n",
       "home_ownership             0\n",
       "annual_inc                 0\n",
       "verification_status        0\n",
       "issue_d                    0\n",
       "loan_status                0\n",
       "desc                       0\n",
       "purpose                    0\n",
       "title                      0\n",
       "zip_code                   0\n",
       "addr_state                 0\n",
       "dti                        0\n",
       "delinq_2yrs                0\n",
       "earliest_cr_line           0\n",
       "inq_last_6mths             0\n",
       "mths_since_last_delinq     0\n",
       "open_acc                   0\n",
       "pub_rec                    0\n",
       "revol_bal                  0\n",
       "revol_util                 0\n",
       "total_acc                  0\n",
       "out_prncp                  0\n",
       "out_prncp_inv              0\n",
       "total_pymnt                0\n",
       "total_pymnt_inv            0\n",
       "total_rec_prncp            0\n",
       "total_rec_int              0\n",
       "total_rec_late_fee         0\n",
       "recoveries                 0\n",
       "collection_recovery_fee    0\n",
       "last_pymnt_d               0\n",
       "last_pymnt_amnt            0\n",
       "last_credit_pull_d         0\n",
       "pub_rec_bankruptcies       0\n",
       "dtype: int64"
      ]
     },
     "execution_count": 39,
     "metadata": {},
     "output_type": "execute_result"
    }
   ],
   "source": [
    "df.isnull().sum()"
   ]
  },
  {
   "cell_type": "code",
   "execution_count": 41,
   "id": "dbcad9a6-da20-48f0-b309-5b8e89da5466",
   "metadata": {},
   "outputs": [],
   "source": [
    "df.to_csv('loancleaned.csv', index=False)\n"
   ]
  },
  {
   "cell_type": "markdown",
   "id": "8c1359a5-de0d-484f-bc80-30749e9e3e4a",
   "metadata": {},
   "source": [
    "####  <font color=\"Green\"> **Standardise** </font>\n",
    "* term to term_months\n",
    "* int_rate and revol_util - remove % \n",
    "* Dates to datetime\n",
    "   * issue_d\n",
    "   * \n",
    "earliest_cr_lin\n",
    "   * \r\n",
    "last_pymnt\n",
    "   * d\r\n",
    "last_credit_pull_d"
   ]
  },
  {
   "cell_type": "code",
   "execution_count": 42,
   "id": "9f46c2f8-bbcb-4466-9153-9c6ccba5cab8",
   "metadata": {},
   "outputs": [
    {
     "data": {
      "text/plain": [
       "<bound method Series.info of 1        60\n",
       "3        36\n",
       "4        60\n",
       "5        36\n",
       "6        60\n",
       "         ..\n",
       "39551    36\n",
       "39562    36\n",
       "39623    36\n",
       "39666    36\n",
       "39680    36\n",
       "Name: term_in_mnths, Length: 36433, dtype: int32>"
      ]
     },
     "execution_count": 42,
     "metadata": {},
     "output_type": "execute_result"
    }
   ],
   "source": [
    "df.rename(columns={'term': 'term_in_mnths'}, inplace=True)\n",
    "# Extract the numerical part and convert to integer\n",
    "df['term_in_mnths'] = df['term_in_mnths'].str.extract('(\\d+)').astype(int)\n",
    "df['term_in_mnths'].info"
   ]
  },
  {
   "cell_type": "code",
   "execution_count": 43,
   "id": "5a95f127-e18c-4d11-8bd7-93ba99bef5a1",
   "metadata": {},
   "outputs": [],
   "source": [
    "df['int_rate'] = df['int_rate'].str.rstrip('%').astype(float)"
   ]
  },
  {
   "cell_type": "code",
   "execution_count": 44,
   "id": "0a71b4c5-dccc-4a06-aca2-a14e4c13f399",
   "metadata": {},
   "outputs": [
    {
     "data": {
      "text/plain": [
       "1    15.27\n",
       "3    13.49\n",
       "4    12.69\n",
       "5     7.90\n",
       "6    15.96\n",
       "Name: int_rate, dtype: float64"
      ]
     },
     "execution_count": 44,
     "metadata": {},
     "output_type": "execute_result"
    }
   ],
   "source": [
    "df['int_rate'].head()"
   ]
  },
  {
   "cell_type": "code",
   "execution_count": 45,
   "id": "a5eb3b4f-4379-4404-a624-c7029377cfff",
   "metadata": {},
   "outputs": [],
   "source": [
    "df['revol_util'] = df['revol_util'].str.rstrip('%').astype(float)"
   ]
  },
  {
   "cell_type": "code",
   "execution_count": 46,
   "id": "ad2ed707-cd4d-49ee-90ca-7793f95729ca",
   "metadata": {},
   "outputs": [
    {
     "data": {
      "text/plain": [
       "1     9.4\n",
       "3    21.0\n",
       "4    53.9\n",
       "5    28.3\n",
       "6    85.6\n",
       "Name: revol_util, dtype: float64"
      ]
     },
     "execution_count": 46,
     "metadata": {},
     "output_type": "execute_result"
    }
   ],
   "source": [
    "df['revol_util'].head()"
   ]
  },
  {
   "cell_type": "code",
   "execution_count": 47,
   "id": "e9022376-d9d1-4ae5-a37c-e3a7ad4ed376",
   "metadata": {},
   "outputs": [
    {
     "data": {
      "text/html": [
       "<div>\n",
       "<style scoped>\n",
       "    .dataframe tbody tr th:only-of-type {\n",
       "        vertical-align: middle;\n",
       "    }\n",
       "\n",
       "    .dataframe tbody tr th {\n",
       "        vertical-align: top;\n",
       "    }\n",
       "\n",
       "    .dataframe thead th {\n",
       "        text-align: right;\n",
       "    }\n",
       "</style>\n",
       "<table border=\"1\" class=\"dataframe\">\n",
       "  <thead>\n",
       "    <tr style=\"text-align: right;\">\n",
       "      <th></th>\n",
       "      <th>id</th>\n",
       "      <th>member_id</th>\n",
       "      <th>loan_amnt</th>\n",
       "      <th>funded_amnt</th>\n",
       "      <th>funded_amnt_inv</th>\n",
       "      <th>term_in_mnths</th>\n",
       "      <th>int_rate</th>\n",
       "      <th>installment</th>\n",
       "      <th>grade</th>\n",
       "      <th>sub_grade</th>\n",
       "      <th>...</th>\n",
       "      <th>total_pymnt_inv</th>\n",
       "      <th>total_rec_prncp</th>\n",
       "      <th>total_rec_int</th>\n",
       "      <th>total_rec_late_fee</th>\n",
       "      <th>recoveries</th>\n",
       "      <th>collection_recovery_fee</th>\n",
       "      <th>last_pymnt_d</th>\n",
       "      <th>last_pymnt_amnt</th>\n",
       "      <th>last_credit_pull_d</th>\n",
       "      <th>pub_rec_bankruptcies</th>\n",
       "    </tr>\n",
       "  </thead>\n",
       "  <tbody>\n",
       "    <tr>\n",
       "      <th>1</th>\n",
       "      <td>1077430</td>\n",
       "      <td>1314167</td>\n",
       "      <td>2500</td>\n",
       "      <td>2500</td>\n",
       "      <td>2500.0</td>\n",
       "      <td>60</td>\n",
       "      <td>15.27</td>\n",
       "      <td>59.83</td>\n",
       "      <td>C</td>\n",
       "      <td>C4</td>\n",
       "      <td>...</td>\n",
       "      <td>1008.71</td>\n",
       "      <td>456.46</td>\n",
       "      <td>435.17</td>\n",
       "      <td>0.00</td>\n",
       "      <td>117.08</td>\n",
       "      <td>1.11</td>\n",
       "      <td>Apr-13</td>\n",
       "      <td>119.66</td>\n",
       "      <td>Sep-13</td>\n",
       "      <td>0.0</td>\n",
       "    </tr>\n",
       "    <tr>\n",
       "      <th>3</th>\n",
       "      <td>1076863</td>\n",
       "      <td>1277178</td>\n",
       "      <td>10000</td>\n",
       "      <td>10000</td>\n",
       "      <td>10000.0</td>\n",
       "      <td>36</td>\n",
       "      <td>13.49</td>\n",
       "      <td>339.31</td>\n",
       "      <td>C</td>\n",
       "      <td>C1</td>\n",
       "      <td>...</td>\n",
       "      <td>12231.89</td>\n",
       "      <td>10000.00</td>\n",
       "      <td>2214.92</td>\n",
       "      <td>16.97</td>\n",
       "      <td>0.00</td>\n",
       "      <td>0.00</td>\n",
       "      <td>Jan-15</td>\n",
       "      <td>357.48</td>\n",
       "      <td>Apr-16</td>\n",
       "      <td>0.0</td>\n",
       "    </tr>\n",
       "    <tr>\n",
       "      <th>4</th>\n",
       "      <td>1075358</td>\n",
       "      <td>1311748</td>\n",
       "      <td>3000</td>\n",
       "      <td>3000</td>\n",
       "      <td>3000.0</td>\n",
       "      <td>60</td>\n",
       "      <td>12.69</td>\n",
       "      <td>67.79</td>\n",
       "      <td>B</td>\n",
       "      <td>B5</td>\n",
       "      <td>...</td>\n",
       "      <td>3513.33</td>\n",
       "      <td>2475.94</td>\n",
       "      <td>1037.39</td>\n",
       "      <td>0.00</td>\n",
       "      <td>0.00</td>\n",
       "      <td>0.00</td>\n",
       "      <td>May-16</td>\n",
       "      <td>67.79</td>\n",
       "      <td>May-16</td>\n",
       "      <td>0.0</td>\n",
       "    </tr>\n",
       "    <tr>\n",
       "      <th>5</th>\n",
       "      <td>1075269</td>\n",
       "      <td>1311441</td>\n",
       "      <td>5000</td>\n",
       "      <td>5000</td>\n",
       "      <td>5000.0</td>\n",
       "      <td>36</td>\n",
       "      <td>7.90</td>\n",
       "      <td>156.46</td>\n",
       "      <td>A</td>\n",
       "      <td>A4</td>\n",
       "      <td>...</td>\n",
       "      <td>5632.21</td>\n",
       "      <td>5000.00</td>\n",
       "      <td>632.21</td>\n",
       "      <td>0.00</td>\n",
       "      <td>0.00</td>\n",
       "      <td>0.00</td>\n",
       "      <td>Jan-15</td>\n",
       "      <td>161.03</td>\n",
       "      <td>Jan-16</td>\n",
       "      <td>0.0</td>\n",
       "    </tr>\n",
       "    <tr>\n",
       "      <th>6</th>\n",
       "      <td>1069639</td>\n",
       "      <td>1304742</td>\n",
       "      <td>7000</td>\n",
       "      <td>7000</td>\n",
       "      <td>7000.0</td>\n",
       "      <td>60</td>\n",
       "      <td>15.96</td>\n",
       "      <td>170.08</td>\n",
       "      <td>C</td>\n",
       "      <td>C5</td>\n",
       "      <td>...</td>\n",
       "      <td>10110.84</td>\n",
       "      <td>6985.61</td>\n",
       "      <td>3125.23</td>\n",
       "      <td>0.00</td>\n",
       "      <td>0.00</td>\n",
       "      <td>0.00</td>\n",
       "      <td>May-16</td>\n",
       "      <td>1313.76</td>\n",
       "      <td>May-16</td>\n",
       "      <td>0.0</td>\n",
       "    </tr>\n",
       "  </tbody>\n",
       "</table>\n",
       "<p>5 rows × 45 columns</p>\n",
       "</div>"
      ],
      "text/plain": [
       "        id  member_id  loan_amnt  funded_amnt  funded_amnt_inv  term_in_mnths  \\\n",
       "1  1077430    1314167       2500         2500           2500.0             60   \n",
       "3  1076863    1277178      10000        10000          10000.0             36   \n",
       "4  1075358    1311748       3000         3000           3000.0             60   \n",
       "5  1075269    1311441       5000         5000           5000.0             36   \n",
       "6  1069639    1304742       7000         7000           7000.0             60   \n",
       "\n",
       "   int_rate  installment grade sub_grade  ... total_pymnt_inv total_rec_prncp  \\\n",
       "1     15.27        59.83     C        C4  ...         1008.71          456.46   \n",
       "3     13.49       339.31     C        C1  ...        12231.89        10000.00   \n",
       "4     12.69        67.79     B        B5  ...         3513.33         2475.94   \n",
       "5      7.90       156.46     A        A4  ...         5632.21         5000.00   \n",
       "6     15.96       170.08     C        C5  ...        10110.84         6985.61   \n",
       "\n",
       "  total_rec_int  total_rec_late_fee recoveries collection_recovery_fee  \\\n",
       "1        435.17                0.00     117.08                    1.11   \n",
       "3       2214.92               16.97       0.00                    0.00   \n",
       "4       1037.39                0.00       0.00                    0.00   \n",
       "5        632.21                0.00       0.00                    0.00   \n",
       "6       3125.23                0.00       0.00                    0.00   \n",
       "\n",
       "  last_pymnt_d last_pymnt_amnt last_credit_pull_d pub_rec_bankruptcies  \n",
       "1       Apr-13          119.66             Sep-13                  0.0  \n",
       "3       Jan-15          357.48             Apr-16                  0.0  \n",
       "4       May-16           67.79             May-16                  0.0  \n",
       "5       Jan-15          161.03             Jan-16                  0.0  \n",
       "6       May-16         1313.76             May-16                  0.0  \n",
       "\n",
       "[5 rows x 45 columns]"
      ]
     },
     "execution_count": 47,
     "metadata": {},
     "output_type": "execute_result"
    }
   ],
   "source": [
    "df.head()"
   ]
  },
  {
   "cell_type": "code",
   "execution_count": 49,
   "id": "f5093b4c-a76d-4228-8db9-40c095795bb8",
   "metadata": {},
   "outputs": [
    {
     "data": {
      "text/plain": [
       "1        Dec-11\n",
       "3        Dec-11\n",
       "4        Dec-11\n",
       "5        Dec-11\n",
       "6        Dec-11\n",
       "          ...  \n",
       "39551    Dec-07\n",
       "39562    Nov-07\n",
       "39623    Oct-07\n",
       "39666    Aug-07\n",
       "39680    Aug-07\n",
       "Name: issue_d, Length: 36433, dtype: object"
      ]
     },
     "execution_count": 49,
     "metadata": {},
     "output_type": "execute_result"
    }
   ],
   "source": [
    "df.issue_d"
   ]
  },
  {
   "cell_type": "code",
   "execution_count": null,
   "id": "091a19ea-36bb-4adb-80ea-c2ccdff6736d",
   "metadata": {},
   "outputs": [],
   "source": []
  }
 ],
 "metadata": {
  "kernelspec": {
   "display_name": "Python 3 (ipykernel)",
   "language": "python",
   "name": "python3"
  },
  "language_info": {
   "codemirror_mode": {
    "name": "ipython",
    "version": 3
   },
   "file_extension": ".py",
   "mimetype": "text/x-python",
   "name": "python",
   "nbconvert_exporter": "python",
   "pygments_lexer": "ipython3",
   "version": "3.9.12"
  }
 },
 "nbformat": 4,
 "nbformat_minor": 5
}
